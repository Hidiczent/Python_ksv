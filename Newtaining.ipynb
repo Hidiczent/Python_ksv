{
 "cells": [
  {
   "cell_type": "code",
   "execution_count": 6,
   "id": "cc214855",
   "metadata": {},
   "outputs": [
    {
     "name": "stdout",
     "output_type": "stream",
     "text": [
      "✅ สร้างไฟล์ unique_names.xlsx แล้วเรียบร้อย\n"
     ]
    }
   ],
   "source": [
    "import pandas as pd\n",
    "\n",
    "# โหลดไฟล์ Excel (ระบุ path ให้ตรงกับไฟล์ของคุณ)\n",
    "file_path = \"data/rules.xlsx\"  # หรือ \"AIPE_AUDIT (1).xlsx\"\n",
    "df = pd.read_excel(file_path, usecols=\"A,B\")\n",
    "\n",
    "# ลบแถวที่ไม่มีข้อมูลทั้ง A และ B\n",
    "df.dropna(how='all', inplace=True)\n",
    "\n",
    "# รวมข้อมูลจากสองคอลัมน์เป็นรายการเดียว\n",
    "combined_names = pd.concat([df.iloc[:, 0], df.iloc[:, 1]]).dropna()\n",
    "\n",
    "# ลบชื่อที่ซ้ำ\n",
    "unique_names = combined_names.drop_duplicates().reset_index(drop=True)\n",
    "\n",
    "# แปลงเป็น DataFrame ใหม่\n",
    "result_df = pd.DataFrame(unique_names, columns=[\"Name\"])\n",
    "\n",
    "# บันทึกเป็น Excel ไฟล์ใหม่\n",
    "result_df.to_excel(\"unique_names.xlsx\", index=False)\n",
    "\n",
    "print(\"✅ สร้างไฟล์ unique_names.xlsx แล้วเรียบร้อย\")\n"
   ]
  },
  {
   "cell_type": "code",
   "execution_count": 9,
   "id": "8df6e25a",
   "metadata": {},
   "outputs": [
    {
     "name": "stdout",
     "output_type": "stream",
     "text": [
      "✅ สร้างไฟล์ unique_names_from_rules.xlsx แล้วเรียบร้อย\n"
     ]
    }
   ],
   "source": [
    "import pandas as pd\n",
    "\n",
    "# อ่านไฟล์ Excel ที่มีตารางแบบในตัวอย่างคุณ\n",
    "df = pd.read_excel(\"data/rules.xlsx\")  # เปลี่ยนชื่อไฟล์ให้ตรง\n",
    "\n",
    "# รวมข้อมูลจากทั้ง 2 คอลัมน์\n",
    "combined = pd.concat([df[\"antecedents\"], df[\"consequents\"]])\n",
    "\n",
    "# ลบค่าที่เป็น NaN และข้อมูลซ้ำ\n",
    "unique_items = combined.dropna().drop_duplicates().reset_index(drop=True)\n",
    "\n",
    "# แปลงเป็น DataFrame สำหรับบันทึก\n",
    "result_df = pd.DataFrame(unique_items, columns=[\"Name\"])\n",
    "\n",
    "# บันทึกเป็นไฟล์ Excel ใหม่\n",
    "result_df.to_excel(\"unique_names_from_rules.xlsx\", index=False)\n",
    "\n",
    "print(\"✅ สร้างไฟล์ unique_names_from_rules.xlsx แล้วเรียบร้อย\")\n"
   ]
  },
  {
   "cell_type": "code",
   "execution_count": 12,
   "id": "f6b0971a",
   "metadata": {},
   "outputs": [
    {
     "name": "stdout",
     "output_type": "stream",
     "text": [
      "✅ บันทึกไฟล์ final_clean_unique_names.xlsx เรียบร้อยแล้ว\n"
     ]
    }
   ],
   "source": [
    "import pandas as pd\n",
    "\n",
    "# โหลดทั้ง 3 ไฟล์ (ระบุ encoding='utf-8' หากเจอปัญหาเพี้ยน)\n",
    "df1 = pd.read_csv(\"data/file1_clean.csv\", encoding='utf-8')\n",
    "df2 = pd.read_csv(\"data/file2_clean.csv\", encoding='utf-8')\n",
    "df3 = pd.read_csv(\"data/file3_clean.csv\", encoding='utf-8')\n",
    "# รวมชื่อสินค้าจากทุกไฟล์\n",
    "combined = pd.concat([df1, df2, df3])\n",
    "\n",
    "# ลบ NaN\n",
    "combined = combined.dropna()\n",
    "\n",
    "# ลบข้อความที่มีตัวอักษรเพี้ยน (�)\n",
    "combined = combined[~combined.iloc[:, 0].astype(str).str.contains(\"�\")]\n",
    "\n",
    "# ลบชื่อสินค้าที่ซ้ำกัน\n",
    "unique_items = combined.drop_duplicates().reset_index(drop=True)\n",
    "\n",
    "# บันทึกเป็นไฟล์ใหม่\n",
    "unique_items.to_excel(\"final_clean_unique_names.xlsx\", index=False)\n",
    "\n",
    "print(\"✅ บันทึกไฟล์ final_clean_unique_names.xlsx เรียบร้อยแล้ว\")\n"
   ]
  },
  {
   "cell_type": "code",
   "execution_count": 2,
   "id": "e12b81ce",
   "metadata": {},
   "outputs": [
    {
     "name": "stdout",
     "output_type": "stream",
     "text": [
      "✅ ลบชื่อที่ซ้ำกันเรียบร้อย บันทึกไว้ใน final_clean_deduplicated.xlsx\n"
     ]
    }
   ],
   "source": [
    "import pandas as pd\n",
    "\n",
    "# โหลดไฟล์ Excel\n",
    "df = pd.read_excel(\"final_clean_unique_names.xlsx\")\n",
    "\n",
    "# ลบชื่อที่ซ้ำกัน โดยอ้างอิงเฉพาะคอลัมน์ 'Name'\n",
    "df_unique = df.drop_duplicates(subset='ชื่อสินค้า').reset_index(drop=True)\n",
    "\n",
    "# บันทึกเป็นไฟล์ใหม่\n",
    "df_unique.to_excel(\"final_clean_deduplicated.xlsx\", index=False)\n",
    "\n",
    "print(\"✅ ลบชื่อที่ซ้ำกันเรียบร้อย บันทึกไว้ใน final_clean_deduplicated.xlsx\")\n"
   ]
  },
  {
   "cell_type": "markdown",
   "id": "e28afffa",
   "metadata": {},
   "source": []
  },
  {
   "cell_type": "markdown",
   "id": "0f800c47",
   "metadata": {},
   "source": []
  }
 ],
 "metadata": {
  "kernelspec": {
   "display_name": "venv",
   "language": "python",
   "name": "python3"
  },
  "language_info": {
   "codemirror_mode": {
    "name": "ipython",
    "version": 3
   },
   "file_extension": ".py",
   "mimetype": "text/x-python",
   "name": "python",
   "nbconvert_exporter": "python",
   "pygments_lexer": "ipython3",
   "version": "3.13.3"
  }
 },
 "nbformat": 4,
 "nbformat_minor": 5
}
