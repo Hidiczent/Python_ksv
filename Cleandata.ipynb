{
 "cells": [
  {
   "cell_type": "code",
   "execution_count": null,
   "id": "07df0bcd",
   "metadata": {},
   "outputs": [
    {
     "name": "stdout",
     "output_type": "stream",
     "text": [
      "🧾 df1 columns: ['Unnamed: 0', 'Unnamed: 1', 'Unnamed: 2', 'Unnamed: 3', 'Unnamed: 4', 'Unnamed: 5', 'Unnamed: 6', 'Unnamed: 7', 'Unnamed: 8', 'Unnamed: 9', 'Unnamed: 10', 'Unnamed: 11', 'Unnamed: 12', 'Unnamed: 13', 'Unnamed: 14', 'Unnamed: 15', 'Unnamed: 16', 'Unnamed: 17', 'Unnamed: 18', 'Unnamed: 19', 'Unnamed: 20', 'Unnamed: 21', 'Unnamed: 22']\n",
      "🧾 df2 columns: ['Unnamed: 0', 'Unnamed: 1', 'Unnamed: 2', 'Unnamed: 3', 'Unnamed: 4', 'Unnamed: 5', 'Unnamed: 6', 'Unnamed: 7', 'Unnamed: 8', 'Unnamed: 9', 'Unnamed: 10', 'Unnamed: 11', 'Unnamed: 12', 'Unnamed: 13', 'Unnamed: 14', 'Unnamed: 15', 'Unnamed: 16', 'Unnamed: 17', 'Unnamed: 18', 'Unnamed: 19', 'Unnamed: 20', 'Unnamed: 21', 'Unnamed: 22']\n",
      "🧾 df3 columns: ['Unnamed: 0', 'Unnamed: 1', 'Unnamed: 2', 'Unnamed: 3', 'Unnamed: 4', 'Unnamed: 5', 'Unnamed: 6', 'Unnamed: 7', 'Unnamed: 8', 'Unnamed: 9', 'Unnamed: 10', 'Unnamed: 11', 'Unnamed: 12', 'Unnamed: 13', 'Unnamed: 14', 'Unnamed: 15', 'Unnamed: 16', 'Unnamed: 17', 'Unnamed: 18', 'Unnamed: 19', 'Unnamed: 20', 'Unnamed: 21', 'Unnamed: 22']\n"
     ]
    }
   ],
   "source": [
    "import pandas as pd\n",
    "\n",
    "# อ่านไฟล์\n",
    "df1 = pd.read_excel(\"data/month1.xlsx\", converters={\"itemsets\": eval})\n",
    "df2 = pd.read_excel(\"data/month2.xlsx\", converters={\"antecedents\": eval, \"consequents\": eval})\n",
    "df3 = pd.read_excel(\"data/month3.xlsx\", converters={\"itemsets\": eval})\n",
    "\n",
    "# แสดงชื่อคอลัมน์เพื่อดูว่า column จริง ๆ ชื่ออะไร\n",
    "print(\"🧾 df1 columns:\", df1.columns.tolist())\n",
    "print(\"🧾 df2 columns:\", df2.columns.tolist())\n",
    "print(\"🧾 df3 columns:\", df3.columns.tolist())\n"
   ]
  },
  {
   "cell_type": "code",
   "execution_count": 5,
   "id": "89c51b81",
   "metadata": {},
   "outputs": [],
   "source": [
    "import pandas as pd\n",
    "\n",
    "# ระบุ header ที่บรรทัดที่ 6 (index 6)\n",
    "df1 = pd.read_excel(\"data/month1.xlsx\", header=6)\n",
    "df2 = pd.read_excel(\"data/month2.xlsx\", header=6)\n",
    "df3 = pd.read_excel(\"data/month3.xlsx\", header=6)\n",
    "\n",
    "# คำที่ต้องการลบ\n",
    "target_item = \"ຢາສາມັນປະຈຳບ້ານ\"\n",
    "\n",
    "# ตรวจสอบว่าคอลัมน์ \"ชื่อสินค้า\" อยู่ชื่ออะไร (ควรเป็น \"ชื่อสินค้า\" จาก header)\n",
    "# หากไม่แน่ใจ สามารถ print(df1.columns) ได้\n",
    "\n",
    "# ลบแถวที่มีคำว่า \"ຢາສາມັນປະຈຳບ້ານ\" ในคอลัมน์ \"ชื่อสินค้า\"\n",
    "df1 = df1[~df1[\"ชื่อสินค้า\"].astype(str).str.contains(target_item)]\n",
    "df2 = df2[~df2[\"ชื่อสินค้า\"].astype(str).str.contains(target_item)]\n",
    "df3 = df3[~df3[\"ชื่อสินค้า\"].astype(str).str.contains(target_item)]\n",
    "\n",
    "# บันทึกกลับเป็น CSV\n",
    "df1.to_csv(\"file1_clean.csv\", index=False)\n",
    "df2.to_csv(\"file2_clean.csv\", index=False)\n",
    "df3.to_csv(\"file3_clean.csv\", index=False)\n"
   ]
  },
  {
   "cell_type": "code",
   "execution_count": 6,
   "id": "f9b59dd0",
   "metadata": {},
   "outputs": [
    {
     "name": "stdout",
     "output_type": "stream",
     "text": [
      "✅ ลบสำเร็จแล้ว บันทึกไว้ในไฟล์: clean_product_categories.csv\n"
     ]
    }
   ],
   "source": [
    "import pandas as pd\n",
    "\n",
    "# อ่านไฟล์ CSV\n",
    "df = pd.read_csv(\"data/Extracted_Product_Categories.csv\")\n",
    "\n",
    "# รายการคำที่ต้องการลบ\n",
    "target_item = \"ຢາສາມັນປະຈຳບ້ານ\"\n",
    "\n",
    "# ตรวจสอบคอลัมน์ทั้งหมด\n",
    "columns = df.columns.tolist()\n",
    "\n",
    "# ลบแถวที่มีคำว่า \"ຢາສາມັນປະຈຳບ້ານ\" ในทุกคอลัมน์\n",
    "df_clean = df[~df.apply(lambda row: row.astype(str).str.contains(target_item).any(), axis=1)]\n",
    "\n",
    "# บันทึกเป็นไฟล์ใหม่\n",
    "df_clean.to_csv(\"clean_product_categories.csv\", index=False)\n",
    "\n",
    "print(\"✅ ลบสำเร็จแล้ว บันทึกไว้ในไฟล์: clean_product_categories.csv\")\n"
   ]
  },
  {
   "cell_type": "code",
   "execution_count": null,
   "id": "b328da87",
   "metadata": {},
   "outputs": [],
   "source": []
  }
 ],
 "metadata": {
  "kernelspec": {
   "display_name": "venv",
   "language": "python",
   "name": "python3"
  },
  "language_info": {
   "codemirror_mode": {
    "name": "ipython",
    "version": 3
   },
   "file_extension": ".py",
   "mimetype": "text/x-python",
   "name": "python",
   "nbconvert_exporter": "python",
   "pygments_lexer": "ipython3",
   "version": "3.13.3"
  }
 },
 "nbformat": 4,
 "nbformat_minor": 5
}
